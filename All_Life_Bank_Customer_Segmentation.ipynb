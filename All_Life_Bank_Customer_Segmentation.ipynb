{
 "cells": [
  {
   "cell_type": "markdown",
   "id": "7aab99b8",
   "metadata": {},
   "source": [
    "# All Life Bank Customer Segmentation Project"
   ]
  },
  {
   "cell_type": "markdown",
   "id": "599ddfd0",
   "metadata": {},
   "source": [
    "## Background"
   ]
  },
  {
   "cell_type": "markdown",
   "id": "ead4739a",
   "metadata": {},
   "source": [
    "AllLife Bank wants to focus on its credit card customer base in the next financial year. They have been advised by their Marketing Research Team, that the penetration in the market can be improved. Based on this input, the Marketing Team proposes to run personalized campaigns to target new customers as well as upsell to existing customers. Another insight from the market research was that the customers perceive the support services of the Bank poorly. Based on this, the Operations team wants to upgrade the service delivery model, to ensure that customer queries are resolved faster. Head of Marketing and Head of Delivery both decide to reach out to the Data Science team for help. "
   ]
  },
  {
   "cell_type": "markdown",
   "id": "702cc0d8",
   "metadata": {},
   "source": [
    "## Objective\n",
    "\n",
    "- To identify different segments in the existing customer base, based on their spending patterns, as well as past interaction with the bank using clustering algorithms\n",
    "- How each cluster is different from the others?\n",
    "- Provide recommendations to the bank on how to better market to and service these customers."
   ]
  },
  {
   "cell_type": "markdown",
   "id": "fb8aec04",
   "metadata": {},
   "source": [
    "## Data Dictionary\n",
    "\n",
    "**Sl_No**: Primary key of the records  \n",
    "**Customer Key**: Customer identification number  \n",
    "**Average Credit Limit**: Average credit limit of each customer for all credit cards  \n",
    "**Total credit cards**: Total number of credit cards possessed by the customer  \n",
    "**Total visits bank**: Total number of visits that customer made (yearly) personally to the bank  \n",
    "**Total visits online**: Total number of visits or online logins made by the customer (yearly)  \n",
    "**Total calls made**: Total number of calls made by the customer to the bank or its customer service department (yearly)"
   ]
  },
  {
   "cell_type": "markdown",
   "id": "b8fc2521",
   "metadata": {},
   "source": [
    "## Analysis and Prediction"
   ]
  },
  {
   "cell_type": "markdown",
   "id": "41f4d8ca",
   "metadata": {},
   "source": [
    "### Warnings"
   ]
  },
  {
   "cell_type": "code",
   "execution_count": 1,
   "id": "45bbd13f",
   "metadata": {},
   "outputs": [],
   "source": [
    "import warnings # importing warnings\n",
    "warnings.filterwarnings('ignore') # ensuring warnings do not appear in the notebook"
   ]
  },
  {
   "cell_type": "markdown",
   "id": "c65f1653",
   "metadata": {},
   "source": [
    "### Import relevant libraries"
   ]
  },
  {
   "cell_type": "code",
   "execution_count": 2,
   "id": "8d13bee8",
   "metadata": {},
   "outputs": [],
   "source": [
    "import numpy as np # numerical computations\n",
    "import pandas as pd # data processing\n",
    "\n",
    "# for creating visualisations\n",
    "import matplotlib.pyplot as plt\n",
    "%matplotlib inline \n",
    "import seaborn as sns\n",
    "\n",
    "# to scale the data using z-score\n",
    "from sklearn.preprocessing import StandardScaler\n",
    "\n",
    "# # to perform k-means clustering and compute silhouette scores\n",
    "from sklearn.cluster import KMeans"
   ]
  },
  {
   "cell_type": "markdown",
   "id": "2b94c83e",
   "metadata": {},
   "source": [
    "### Load the data"
   ]
  },
  {
   "cell_type": "code",
   "execution_count": 3,
   "id": "93297de8",
   "metadata": {},
   "outputs": [
    {
     "data": {
      "text/html": [
       "<div>\n",
       "<style scoped>\n",
       "    .dataframe tbody tr th:only-of-type {\n",
       "        vertical-align: middle;\n",
       "    }\n",
       "\n",
       "    .dataframe tbody tr th {\n",
       "        vertical-align: top;\n",
       "    }\n",
       "\n",
       "    .dataframe thead th {\n",
       "        text-align: right;\n",
       "    }\n",
       "</style>\n",
       "<table border=\"1\" class=\"dataframe\">\n",
       "  <thead>\n",
       "    <tr style=\"text-align: right;\">\n",
       "      <th></th>\n",
       "      <th>Sl_No</th>\n",
       "      <th>Customer Key</th>\n",
       "      <th>Avg_Credit_Limit</th>\n",
       "      <th>Total_Credit_Cards</th>\n",
       "      <th>Total_visits_bank</th>\n",
       "      <th>Total_visits_online</th>\n",
       "      <th>Total_calls_made</th>\n",
       "    </tr>\n",
       "  </thead>\n",
       "  <tbody>\n",
       "    <tr>\n",
       "      <th>0</th>\n",
       "      <td>1</td>\n",
       "      <td>87073</td>\n",
       "      <td>100000</td>\n",
       "      <td>2</td>\n",
       "      <td>1</td>\n",
       "      <td>1</td>\n",
       "      <td>0</td>\n",
       "    </tr>\n",
       "    <tr>\n",
       "      <th>1</th>\n",
       "      <td>2</td>\n",
       "      <td>38414</td>\n",
       "      <td>50000</td>\n",
       "      <td>3</td>\n",
       "      <td>0</td>\n",
       "      <td>10</td>\n",
       "      <td>9</td>\n",
       "    </tr>\n",
       "    <tr>\n",
       "      <th>2</th>\n",
       "      <td>3</td>\n",
       "      <td>17341</td>\n",
       "      <td>50000</td>\n",
       "      <td>7</td>\n",
       "      <td>1</td>\n",
       "      <td>3</td>\n",
       "      <td>4</td>\n",
       "    </tr>\n",
       "    <tr>\n",
       "      <th>3</th>\n",
       "      <td>4</td>\n",
       "      <td>40496</td>\n",
       "      <td>30000</td>\n",
       "      <td>5</td>\n",
       "      <td>1</td>\n",
       "      <td>1</td>\n",
       "      <td>4</td>\n",
       "    </tr>\n",
       "    <tr>\n",
       "      <th>4</th>\n",
       "      <td>5</td>\n",
       "      <td>47437</td>\n",
       "      <td>100000</td>\n",
       "      <td>6</td>\n",
       "      <td>0</td>\n",
       "      <td>12</td>\n",
       "      <td>3</td>\n",
       "    </tr>\n",
       "  </tbody>\n",
       "</table>\n",
       "</div>"
      ],
      "text/plain": [
       "   Sl_No  Customer Key  Avg_Credit_Limit  Total_Credit_Cards  \\\n",
       "0      1         87073            100000                   2   \n",
       "1      2         38414             50000                   3   \n",
       "2      3         17341             50000                   7   \n",
       "3      4         40496             30000                   5   \n",
       "4      5         47437            100000                   6   \n",
       "\n",
       "   Total_visits_bank  Total_visits_online  Total_calls_made  \n",
       "0                  1                    1                 0  \n",
       "1                  0                   10                 9  \n",
       "2                  1                    3                 4  \n",
       "3                  1                    1                 4  \n",
       "4                  0                   12                 3  "
      ]
     },
     "execution_count": 3,
     "metadata": {},
     "output_type": "execute_result"
    }
   ],
   "source": [
    "data = pd.read_csv('Credit+Card+Customer+Data.csv') # loading the data\n",
    "df = data.copy() # making a copy of the data to preserve the integrity of the original one\n",
    "df.head() # showing the first 5 rows of the data"
   ]
  },
  {
   "cell_type": "markdown",
   "id": "4c43085e",
   "metadata": {},
   "source": [
    "### Exploratory Data Analysis"
   ]
  },
  {
   "cell_type": "code",
   "execution_count": 4,
   "id": "c5edfc2d",
   "metadata": {},
   "outputs": [
    {
     "data": {
      "text/plain": [
       "(660, 7)"
      ]
     },
     "execution_count": 4,
     "metadata": {},
     "output_type": "execute_result"
    }
   ],
   "source": [
    "# checking thedimension of the data\n",
    "df.shape"
   ]
  },
  {
   "cell_type": "markdown",
   "id": "9a746e11",
   "metadata": {},
   "source": [
    "- There are 660 rows and 7 columns in the dataset.  \n",
    "\n",
    "- The SI_No and Customer Key columns are not relevant to this analysis and so would be dropped "
   ]
  },
  {
   "cell_type": "code",
   "execution_count": 5,
   "id": "05ac2e35",
   "metadata": {},
   "outputs": [],
   "source": [
    "# dropping the \"SI_No\" and \"Customer Key\" column\n",
    "df.drop(['Sl_No', 'Customer Key'], axis=1, inplace=True)"
   ]
  },
  {
   "cell_type": "code",
   "execution_count": 6,
   "id": "2fa5e430",
   "metadata": {},
   "outputs": [
    {
     "data": {
      "text/plain": [
       "Index(['Avg_Credit_Limit', 'Total_Credit_Cards', 'Total_visits_bank',\n",
       "       'Total_visits_online', 'Total_calls_made'],\n",
       "      dtype='object')"
      ]
     },
     "execution_count": 6,
     "metadata": {},
     "output_type": "execute_result"
    }
   ],
   "source": [
    "# quality check\n",
    "df.columns"
   ]
  },
  {
   "cell_type": "code",
   "execution_count": 7,
   "id": "35bb7b79",
   "metadata": {},
   "outputs": [
    {
     "data": {
      "text/plain": [
       "Avg_Credit_Limit       0\n",
       "Total_Credit_Cards     0\n",
       "Total_visits_bank      0\n",
       "Total_visits_online    0\n",
       "Total_calls_made       0\n",
       "dtype: int64"
      ]
     },
     "execution_count": 7,
     "metadata": {},
     "output_type": "execute_result"
    }
   ],
   "source": [
    "# checking for null values\n",
    "df.isnull().sum()"
   ]
  },
  {
   "cell_type": "markdown",
   "id": "ae6896f3",
   "metadata": {},
   "source": [
    "- There are no null values in the dataset"
   ]
  },
  {
   "cell_type": "code",
   "execution_count": 8,
   "id": "901adff0",
   "metadata": {},
   "outputs": [
    {
     "data": {
      "text/plain": [
       "11"
      ]
     },
     "execution_count": 8,
     "metadata": {},
     "output_type": "execute_result"
    }
   ],
   "source": [
    "# checking for duplicated values\n",
    "df.duplicated().sum()"
   ]
  },
  {
   "cell_type": "markdown",
   "id": "8ad7b2c4",
   "metadata": {},
   "source": [
    "- There are 11 diplicated values in the dataset"
   ]
  },
  {
   "cell_type": "code",
   "execution_count": 9,
   "id": "08718949",
   "metadata": {},
   "outputs": [],
   "source": [
    "# dropping the duplicated values and resetting the index\n",
    "df.drop_duplicates(inplace=True) # dropping the duplicates\n",
    "df.reset_index(drop=True, inplace=True) # resetting the index"
   ]
  },
  {
   "cell_type": "code",
   "execution_count": 10,
   "id": "cb5cb618",
   "metadata": {},
   "outputs": [
    {
     "data": {
      "text/plain": [
       "(649, 5)"
      ]
     },
     "execution_count": 10,
     "metadata": {},
     "output_type": "execute_result"
    }
   ],
   "source": [
    "# quality check\n",
    "df.shape"
   ]
  },
  {
   "cell_type": "markdown",
   "id": "a02de010",
   "metadata": {},
   "source": [
    "- There are now 649 rows and 5 columns in the dataset"
   ]
  },
  {
   "cell_type": "code",
   "execution_count": 11,
   "id": "f14ec347",
   "metadata": {},
   "outputs": [
    {
     "name": "stdout",
     "output_type": "stream",
     "text": [
      "<class 'pandas.core.frame.DataFrame'>\n",
      "RangeIndex: 649 entries, 0 to 648\n",
      "Data columns (total 5 columns):\n",
      " #   Column               Non-Null Count  Dtype\n",
      "---  ------               --------------  -----\n",
      " 0   Avg_Credit_Limit     649 non-null    int64\n",
      " 1   Total_Credit_Cards   649 non-null    int64\n",
      " 2   Total_visits_bank    649 non-null    int64\n",
      " 3   Total_visits_online  649 non-null    int64\n",
      " 4   Total_calls_made     649 non-null    int64\n",
      "dtypes: int64(5)\n",
      "memory usage: 25.5 KB\n"
     ]
    }
   ],
   "source": [
    "# summary information on the dataset\n",
    "df.info()"
   ]
  },
  {
   "cell_type": "markdown",
   "id": "9251ede9",
   "metadata": {},
   "source": [
    "- All the columns are numerical (integer data type)"
   ]
  },
  {
   "cell_type": "code",
   "execution_count": 12,
   "id": "fde6025a",
   "metadata": {},
   "outputs": [
    {
     "data": {
      "text/html": [
       "<div>\n",
       "<style scoped>\n",
       "    .dataframe tbody tr th:only-of-type {\n",
       "        vertical-align: middle;\n",
       "    }\n",
       "\n",
       "    .dataframe tbody tr th {\n",
       "        vertical-align: top;\n",
       "    }\n",
       "\n",
       "    .dataframe thead th {\n",
       "        text-align: right;\n",
       "    }\n",
       "</style>\n",
       "<table border=\"1\" class=\"dataframe\">\n",
       "  <thead>\n",
       "    <tr style=\"text-align: right;\">\n",
       "      <th></th>\n",
       "      <th>count</th>\n",
       "      <th>mean</th>\n",
       "      <th>std</th>\n",
       "      <th>min</th>\n",
       "      <th>25%</th>\n",
       "      <th>50%</th>\n",
       "      <th>75%</th>\n",
       "      <th>max</th>\n",
       "    </tr>\n",
       "  </thead>\n",
       "  <tbody>\n",
       "    <tr>\n",
       "      <th>Avg_Credit_Limit</th>\n",
       "      <td>649.0</td>\n",
       "      <td>34878.274268</td>\n",
       "      <td>37813.736638</td>\n",
       "      <td>3000.0</td>\n",
       "      <td>11000.0</td>\n",
       "      <td>18000.0</td>\n",
       "      <td>49000.0</td>\n",
       "      <td>200000.0</td>\n",
       "    </tr>\n",
       "    <tr>\n",
       "      <th>Total_Credit_Cards</th>\n",
       "      <td>649.0</td>\n",
       "      <td>4.708783</td>\n",
       "      <td>2.173763</td>\n",
       "      <td>1.0</td>\n",
       "      <td>3.0</td>\n",
       "      <td>5.0</td>\n",
       "      <td>6.0</td>\n",
       "      <td>10.0</td>\n",
       "    </tr>\n",
       "    <tr>\n",
       "      <th>Total_visits_bank</th>\n",
       "      <td>649.0</td>\n",
       "      <td>2.397535</td>\n",
       "      <td>1.625148</td>\n",
       "      <td>0.0</td>\n",
       "      <td>1.0</td>\n",
       "      <td>2.0</td>\n",
       "      <td>4.0</td>\n",
       "      <td>5.0</td>\n",
       "    </tr>\n",
       "    <tr>\n",
       "      <th>Total_visits_online</th>\n",
       "      <td>649.0</td>\n",
       "      <td>2.624037</td>\n",
       "      <td>2.952888</td>\n",
       "      <td>0.0</td>\n",
       "      <td>1.0</td>\n",
       "      <td>2.0</td>\n",
       "      <td>4.0</td>\n",
       "      <td>15.0</td>\n",
       "    </tr>\n",
       "    <tr>\n",
       "      <th>Total_calls_made</th>\n",
       "      <td>649.0</td>\n",
       "      <td>3.590139</td>\n",
       "      <td>2.877911</td>\n",
       "      <td>0.0</td>\n",
       "      <td>1.0</td>\n",
       "      <td>3.0</td>\n",
       "      <td>5.0</td>\n",
       "      <td>10.0</td>\n",
       "    </tr>\n",
       "  </tbody>\n",
       "</table>\n",
       "</div>"
      ],
      "text/plain": [
       "                     count          mean           std     min      25%  \\\n",
       "Avg_Credit_Limit     649.0  34878.274268  37813.736638  3000.0  11000.0   \n",
       "Total_Credit_Cards   649.0      4.708783      2.173763     1.0      3.0   \n",
       "Total_visits_bank    649.0      2.397535      1.625148     0.0      1.0   \n",
       "Total_visits_online  649.0      2.624037      2.952888     0.0      1.0   \n",
       "Total_calls_made     649.0      3.590139      2.877911     0.0      1.0   \n",
       "\n",
       "                         50%      75%       max  \n",
       "Avg_Credit_Limit     18000.0  49000.0  200000.0  \n",
       "Total_Credit_Cards       5.0      6.0      10.0  \n",
       "Total_visits_bank        2.0      4.0       5.0  \n",
       "Total_visits_online      2.0      4.0      15.0  \n",
       "Total_calls_made         3.0      5.0      10.0  "
      ]
     },
     "execution_count": 12,
     "metadata": {},
     "output_type": "execute_result"
    }
   ],
   "source": [
    "# statistical summary of the dataset\n",
    "df.describe().T"
   ]
  },
  {
   "cell_type": "markdown",
   "id": "c71ba4f8",
   "metadata": {},
   "source": [
    "- The average credit card limit for most customers is between 11,000 - 49,000 dollars, the average is 34,878 and the maximum is 200,000\n",
    "- The total credit cards for most customers is between 3 - 6 cards\n",
    "- The total physical visits to the bank for most customers is between 1 - 4 times yearly\n",
    "- The total online logins for most customers is between 1 - 4 times yearly\n",
    "- The total calls made to the bank for most customers is between 1 - 5 times yearly."
   ]
  },
  {
   "cell_type": "markdown",
   "id": "a24e3540",
   "metadata": {},
   "source": [
    "### Univariate Analysis"
   ]
  },
  {
   "cell_type": "code",
   "execution_count": 13,
   "id": "03f3089b",
   "metadata": {},
   "outputs": [
    {
     "data": {
      "image/png": "[encoded data removed]",
      "text/plain": [
       "<Figure size 864x2160 with 20 Axes>"
      ]
     },
     "metadata": {
      "needs_background": "light"
     },
     "output_type": "display_data"
    }
   ],
   "source": [
    "# plotting histograms of all the columns\n",
    "df.hist(stacked = False, bins = 100, figsize = (12, 30), layout = (10, 2))\n",
    "plt.tight_layout();"
   ]
  },
  {
   "cell_type": "markdown",
   "id": "5f380f9f",
   "metadata": {},
   "source": [
    "- The average credit card limit is right skewed. Most people have a limit of between 3,000 - 75,000 dollars\n",
    "- All other variables in the dataset are discrete"
   ]
  },
  {
   "cell_type": "markdown",
   "id": "ed9e333a",
   "metadata": {},
   "source": [
    "### Bivariate analysis"
   ]
  },
  {
   "cell_type": "code",
   "execution_count": 14,
   "id": "8f3efd7c",
   "metadata": {},
   "outputs": [
    {
     "data": {
      "image/png": "[encoded data removed]",
      "text/plain": [
       "<Figure size 576x432 with 2 Axes>"
      ]
     },
     "metadata": {
      "needs_background": "light"
     },
     "output_type": "display_data"
    }
   ],
   "source": [
    "# plotting a heat map to show correlation between the variables\n",
    "plt.figure(figsize=(8, 6))\n",
    "sns.heatmap(df.corr(), vmax=1, vmin=-1, annot=True)\n",
    "plt.show()"
   ]
  },
  {
   "cell_type": "markdown",
   "id": "a31d609d",
   "metadata": {},
   "source": [
    "- Total Credit Cards has a moderate correlation to Avg Credit Limit. It signifies that to an extent, the more credit cards a customer has, the higher their credit limit. This could be as a result of cummulative credit limits on each card.\n",
    "- Total Visits Online has a moderate correlation with Avg Credit Limit. It signifies that to an extent, the higher a customer's spending limit, the more likely they are to use the online customer service channel\n",
    "- Total Credit Cards has a moderate negative correlation with Total Calls made. This shows that to an extent, the more credit cards a customer has, the less calls they make to the bank.\n",
    "- Total Visits Bank has a moderate negative correlation to Total Visits Online and Total Calls Made. This means that to an extent, the more customers use the online customer service platform and make calls to the bank, the less likely they are to visit the bank physically."
   ]
  },
  {
   "cell_type": "markdown",
   "id": "1cd50bc1",
   "metadata": {},
   "source": [
    "### Scaling the data"
   ]
  },
  {
   "cell_type": "code",
   "execution_count": 15,
   "id": "189951ba",
   "metadata": {},
   "outputs": [],
   "source": [
    "# normalizing the data\n",
    "X = df.copy() # getting the data for X\n",
    "\n",
    "scaler = StandardScaler() # creating an instance of the scaler\n",
    "\n",
    "X_sc = scaler.fit_transform(X) # scaling the data"
   ]
  },
  {
   "cell_type": "code",
   "execution_count": 16,
   "id": "03d2fdb0",
   "metadata": {},
   "outputs": [
    {
     "data": {
      "text/plain": [
       "array([[ 1.72349946, -1.24708705, -0.86060646, -0.55040688, -1.24844298],\n",
       "       [ 0.40020878, -0.78670054, -1.47640975,  2.49980809,  1.88123746],\n",
       "       [ 0.40020878,  1.05484553, -0.86060646,  0.12741867,  0.14252611],\n",
       "       ...,\n",
       "       [ 2.91446107,  1.51523205, -0.86060646,  2.16089532, -0.9007007 ],\n",
       "       [ 3.62903804,  2.43600508, -0.86060646,  4.19437197, -1.24844298],\n",
       "       [ 3.49670897,  1.97561857, -1.47640975,  3.17763364, -0.55295843]])"
      ]
     },
     "execution_count": 16,
     "metadata": {},
     "output_type": "execute_result"
    }
   ],
   "source": [
    "# checking the scaled data\n",
    "X_sc"
   ]
  },
  {
   "cell_type": "markdown",
   "id": "de46e32f",
   "metadata": {},
   "source": [
    "### K-Means Clustering"
   ]
  },
  {
   "cell_type": "code",
   "execution_count": 17,
   "id": "e4c1d560",
   "metadata": {},
   "outputs": [],
   "source": [
    "# declaring the SSE variable (Sum of Squared Errors) as a list to hold the values of the inertia\n",
    "SSE = []\n",
    "\n",
    "# for loop to calculate the inertia over a range of values from 1 - 10\n",
    "for i in range(1, 11):\n",
    "    kmeans = KMeans(n_clusters=i) # declaring an instance of the KMeans and setting the number of clusters to i\n",
    "    kmeans.fit(X_sc) # fitting the KMeans to the data\n",
    "    SSE.append(kmeans.inertia_) # appending the inertia results to the SSE list"
   ]
  },
  {
   "cell_type": "code",
   "execution_count": 18,
   "id": "197f16c8",
   "metadata": {},
   "outputs": [
    {
     "data": {
      "text/plain": [
       "[3245.0,\n",
       " 2006.6299750332655,\n",
       " 912.8580768587269,\n",
       " 763.7267173524408,\n",
       " 689.0840403626082,\n",
       " 628.2792865576624,\n",
       " 587.655971451262,\n",
       " 551.1217020617564,\n",
       " 527.8363904317908,\n",
       " 503.6508788873166]"
      ]
     },
     "execution_count": 18,
     "metadata": {},
     "output_type": "execute_result"
    }
   ],
   "source": [
    "# checking the values for SSE\n",
    "SSE"
   ]
  },
  {
   "cell_type": "code",
   "execution_count": 19,
   "id": "f455692d",
   "metadata": {},
   "outputs": [
    {
     "data": {
      "text/html": [
       "<div>\n",
       "<style scoped>\n",
       "    .dataframe tbody tr th:only-of-type {\n",
       "        vertical-align: middle;\n",
       "    }\n",
       "\n",
       "    .dataframe tbody tr th {\n",
       "        vertical-align: top;\n",
       "    }\n",
       "\n",
       "    .dataframe thead th {\n",
       "        text-align: right;\n",
       "    }\n",
       "</style>\n",
       "<table border=\"1\" class=\"dataframe\">\n",
       "  <thead>\n",
       "    <tr style=\"text-align: right;\">\n",
       "      <th></th>\n",
       "      <th>Clusters</th>\n",
       "      <th>SSE</th>\n",
       "    </tr>\n",
       "  </thead>\n",
       "  <tbody>\n",
       "    <tr>\n",
       "      <th>0</th>\n",
       "      <td>1</td>\n",
       "      <td>3245.000000</td>\n",
       "    </tr>\n",
       "    <tr>\n",
       "      <th>1</th>\n",
       "      <td>2</td>\n",
       "      <td>2006.629975</td>\n",
       "    </tr>\n",
       "    <tr>\n",
       "      <th>2</th>\n",
       "      <td>3</td>\n",
       "      <td>912.858077</td>\n",
       "    </tr>\n",
       "    <tr>\n",
       "      <th>3</th>\n",
       "      <td>4</td>\n",
       "      <td>763.726717</td>\n",
       "    </tr>\n",
       "    <tr>\n",
       "      <th>4</th>\n",
       "      <td>5</td>\n",
       "      <td>689.084040</td>\n",
       "    </tr>\n",
       "    <tr>\n",
       "      <th>5</th>\n",
       "      <td>6</td>\n",
       "      <td>628.279287</td>\n",
       "    </tr>\n",
       "    <tr>\n",
       "      <th>6</th>\n",
       "      <td>7</td>\n",
       "      <td>587.655971</td>\n",
       "    </tr>\n",
       "    <tr>\n",
       "      <th>7</th>\n",
       "      <td>8</td>\n",
       "      <td>551.121702</td>\n",
       "    </tr>\n",
       "    <tr>\n",
       "      <th>8</th>\n",
       "      <td>9</td>\n",
       "      <td>527.836390</td>\n",
       "    </tr>\n",
       "    <tr>\n",
       "      <th>9</th>\n",
       "      <td>10</td>\n",
       "      <td>503.650879</td>\n",
       "    </tr>\n",
       "  </tbody>\n",
       "</table>\n",
       "</div>"
      ],
      "text/plain": [
       "   Clusters          SSE\n",
       "0         1  3245.000000\n",
       "1         2  2006.629975\n",
       "2         3   912.858077\n",
       "3         4   763.726717\n",
       "4         5   689.084040\n",
       "5         6   628.279287\n",
       "6         7   587.655971\n",
       "7         8   551.121702\n",
       "8         9   527.836390\n",
       "9        10   503.650879"
      ]
     },
     "execution_count": 19,
     "metadata": {},
     "output_type": "execute_result"
    }
   ],
   "source": [
    "# creating a dataframe with number of clusters and the inertia values (SSE)\n",
    "frame = pd.DataFrame({\"Clusters\": range(1, 11), \"SSE\": SSE})\n",
    "\n",
    "frame"
   ]
  },
  {
   "cell_type": "code",
   "execution_count": 20,
   "id": "2d243d4d",
   "metadata": {},
   "outputs": [
    {
     "data": {
      "image/png": "[encoded data removed]",
      "text/plain": [
       "<Figure size 720x360 with 1 Axes>"
      ]
     },
     "metadata": {
      "needs_background": "light"
     },
     "output_type": "display_data"
    }
   ],
   "source": [
    "# visualising the inertia values\n",
    "plt.figure(figsize = (10, 5))\n",
    "plt.plot(frame[\"Clusters\"], frame['SSE'], marker = \"o\")\n",
    "plt.xlabel(\"Number of clusters\")\n",
    "plt.ylabel(\"Inertia\")\n",
    "plt.title(\"Inertia against Number of Clusters\")\n",
    "plt.show()"
   ]
  },
  {
   "cell_type": "markdown",
   "id": "658573f3",
   "metadata": {},
   "source": [
    "- From the elbow curve above, the Sum of Squared Errors (SSE) start to decrease significantly from 3 clusters.\n",
    "- I will use 3 clusters to rebuild the K-Means model and then make a prediction"
   ]
  },
  {
   "cell_type": "code",
   "execution_count": 21,
   "id": "5e3e1090",
   "metadata": {},
   "outputs": [],
   "source": [
    "# declaring an instance of the KMeans  with n_clusters=3\n",
    "kmeans2 = KMeans(n_clusters=3, random_state=0)\n",
    "clusters = kmeans2.fit_predict(X_sc) # computing the clusters "
   ]
  },
  {
   "cell_type": "code",
   "execution_count": 22,
   "id": "fba4ce70",
   "metadata": {},
   "outputs": [
    {
     "data": {
      "text/plain": [
       "array([1, 2, 1, 1, 0, 2, 0, 2, 2, 2, 2, 2, 2, 2, 2, 2, 2, 2, 2, 2, 2, 2,\n",
       "       2, 2, 2, 2, 2, 2, 2, 2, 2, 2, 2, 2, 2, 2, 2, 2, 2, 2, 2, 2, 2, 2,\n",
       "       2, 2, 2, 2, 2, 2, 2, 2, 2, 2, 2, 2, 2, 2, 2, 2, 2, 2, 2, 2, 2, 2,\n",
       "       2, 2, 2, 2, 2, 2, 2, 2, 2, 2, 2, 2, 2, 2, 2, 2, 2, 2, 2, 2, 2, 2,\n",
       "       2, 2, 2, 2, 2, 2, 2, 2, 2, 2, 2, 2, 2, 2, 2, 2, 2, 2, 2, 2, 2, 2,\n",
       "       2, 2, 2, 2, 2, 2, 2, 2, 2, 2, 2, 2, 2, 2, 2, 2, 2, 2, 2, 2, 2, 2,\n",
       "       2, 2, 2, 2, 2, 2, 2, 2, 2, 2, 2, 2, 2, 2, 2, 2, 2, 2, 2, 2, 2, 2,\n",
       "       2, 2, 2, 2, 2, 2, 2, 2, 2, 2, 2, 2, 2, 2, 2, 2, 2, 2, 2, 2, 2, 2,\n",
       "       2, 2, 2, 2, 2, 2, 2, 2, 2, 2, 2, 2, 2, 2, 2, 2, 2, 2, 2, 2, 2, 2,\n",
       "       2, 2, 2, 2, 2, 2, 2, 2, 2, 2, 2, 2, 2, 2, 2, 2, 2, 2, 2, 2, 2, 2,\n",
       "       2, 2, 2, 2, 2, 1, 1, 1, 1, 1, 1, 1, 1, 1, 1, 1, 1, 1, 1, 1, 1, 1,\n",
       "       1, 1, 1, 1, 1, 1, 1, 1, 1, 1, 1, 1, 1, 1, 1, 1, 1, 1, 1, 1, 1, 1,\n",
       "       1, 1, 1, 1, 1, 1, 1, 1, 1, 1, 1, 1, 1, 1, 1, 1, 1, 1, 1, 1, 1, 1,\n",
       "       1, 1, 1, 1, 1, 1, 1, 1, 1, 1, 1, 1, 1, 1, 1, 1, 1, 1, 1, 1, 1, 1,\n",
       "       1, 2, 1, 1, 1, 1, 1, 1, 1, 1, 1, 1, 1, 1, 1, 1, 1, 1, 1, 1, 1, 1,\n",
       "       1, 1, 1, 1, 1, 1, 1, 1, 1, 1, 1, 1, 1, 1, 1, 1, 1, 1, 1, 1, 1, 1,\n",
       "       1, 1, 1, 1, 1, 1, 1, 1, 1, 1, 1, 1, 1, 1, 1, 1, 1, 1, 1, 1, 1, 1,\n",
       "       1, 1, 1, 1, 1, 1, 1, 1, 1, 1, 1, 1, 1, 1, 1, 1, 1, 1, 1, 1, 1, 1,\n",
       "       1, 1, 1, 1, 1, 1, 1, 1, 1, 1, 1, 1, 1, 1, 1, 1, 1, 1, 1, 1, 1, 1,\n",
       "       1, 1, 1, 1, 1, 1, 1, 1, 1, 1, 1, 1, 1, 1, 1, 1, 1, 1, 1, 1, 1, 1,\n",
       "       1, 1, 1, 1, 1, 1, 1, 1, 1, 1, 1, 1, 1, 1, 1, 1, 1, 1, 1, 1, 1, 1,\n",
       "       1, 1, 1, 1, 1, 1, 1, 1, 1, 1, 1, 1, 1, 1, 1, 1, 1, 1, 1, 1, 1, 1,\n",
       "       1, 1, 1, 1, 1, 1, 1, 1, 1, 1, 1, 1, 1, 1, 1, 1, 1, 1, 1, 1, 1, 1,\n",
       "       1, 1, 1, 1, 1, 1, 1, 1, 1, 1, 1, 1, 1, 1, 1, 1, 1, 1, 1, 1, 1, 1,\n",
       "       1, 1, 1, 1, 1, 1, 1, 1, 1, 1, 1, 1, 1, 1, 1, 1, 1, 1, 1, 1, 1, 1,\n",
       "       1, 1, 1, 1, 1, 1, 1, 1, 1, 1, 1, 1, 1, 1, 1, 1, 1, 1, 1, 1, 1, 1,\n",
       "       1, 1, 1, 1, 1, 1, 1, 1, 1, 1, 1, 1, 1, 1, 1, 1, 1, 1, 1, 1, 1, 1,\n",
       "       1, 1, 1, 1, 1, 1, 1, 0, 0, 0, 0, 0, 0, 0, 0, 0, 0, 0, 0, 0, 0, 0,\n",
       "       0, 0, 0, 0, 0, 0, 0, 0, 0, 0, 0, 0, 0, 0, 0, 0, 0, 0, 0, 0, 0, 0,\n",
       "       0, 0, 0, 0, 0, 0, 0, 0, 0, 0, 0], dtype=int32)"
      ]
     },
     "execution_count": 22,
     "metadata": {},
     "output_type": "execute_result"
    }
   ],
   "source": [
    "# showing the clusters\n",
    "clusters"
   ]
  },
  {
   "cell_type": "markdown",
   "id": "9ef30fa3",
   "metadata": {},
   "source": [
    "To interprete the data with the cluster values, we need to insert the clusters into the dataset"
   ]
  },
  {
   "cell_type": "code",
   "execution_count": 23,
   "id": "764e8595",
   "metadata": {},
   "outputs": [
    {
     "data": {
      "text/html": [
       "<div>\n",
       "<style scoped>\n",
       "    .dataframe tbody tr th:only-of-type {\n",
       "        vertical-align: middle;\n",
       "    }\n",
       "\n",
       "    .dataframe tbody tr th {\n",
       "        vertical-align: top;\n",
       "    }\n",
       "\n",
       "    .dataframe thead th {\n",
       "        text-align: right;\n",
       "    }\n",
       "</style>\n",
       "<table border=\"1\" class=\"dataframe\">\n",
       "  <thead>\n",
       "    <tr style=\"text-align: right;\">\n",
       "      <th></th>\n",
       "      <th>Avg_Credit_Limit</th>\n",
       "      <th>Total_Credit_Cards</th>\n",
       "      <th>Total_visits_bank</th>\n",
       "      <th>Total_visits_online</th>\n",
       "      <th>Total_calls_made</th>\n",
       "      <th>kmeans_cluster</th>\n",
       "    </tr>\n",
       "  </thead>\n",
       "  <tbody>\n",
       "    <tr>\n",
       "      <th>0</th>\n",
       "      <td>100000</td>\n",
       "      <td>2</td>\n",
       "      <td>1</td>\n",
       "      <td>1</td>\n",
       "      <td>0</td>\n",
       "      <td>1</td>\n",
       "    </tr>\n",
       "    <tr>\n",
       "      <th>1</th>\n",
       "      <td>50000</td>\n",
       "      <td>3</td>\n",
       "      <td>0</td>\n",
       "      <td>10</td>\n",
       "      <td>9</td>\n",
       "      <td>2</td>\n",
       "    </tr>\n",
       "    <tr>\n",
       "      <th>2</th>\n",
       "      <td>50000</td>\n",
       "      <td>7</td>\n",
       "      <td>1</td>\n",
       "      <td>3</td>\n",
       "      <td>4</td>\n",
       "      <td>1</td>\n",
       "    </tr>\n",
       "    <tr>\n",
       "      <th>3</th>\n",
       "      <td>30000</td>\n",
       "      <td>5</td>\n",
       "      <td>1</td>\n",
       "      <td>1</td>\n",
       "      <td>4</td>\n",
       "      <td>1</td>\n",
       "    </tr>\n",
       "    <tr>\n",
       "      <th>4</th>\n",
       "      <td>100000</td>\n",
       "      <td>6</td>\n",
       "      <td>0</td>\n",
       "      <td>12</td>\n",
       "      <td>3</td>\n",
       "      <td>0</td>\n",
       "    </tr>\n",
       "  </tbody>\n",
       "</table>\n",
       "</div>"
      ],
      "text/plain": [
       "   Avg_Credit_Limit  Total_Credit_Cards  Total_visits_bank  \\\n",
       "0            100000                   2                  1   \n",
       "1             50000                   3                  0   \n",
       "2             50000                   7                  1   \n",
       "3             30000                   5                  1   \n",
       "4            100000                   6                  0   \n",
       "\n",
       "   Total_visits_online  Total_calls_made  kmeans_cluster  \n",
       "0                    1                 0               1  \n",
       "1                   10                 9               2  \n",
       "2                    3                 4               1  \n",
       "3                    1                 4               1  \n",
       "4                   12                 3               0  "
      ]
     },
     "execution_count": 23,
     "metadata": {},
     "output_type": "execute_result"
    }
   ],
   "source": [
    "# inserting the cluster values to the dataset to enable interpretation\n",
    "X['kmeans_cluster'] = clusters\n",
    "X.head() # getting the first 5 values of the updated dataset"
   ]
  },
  {
   "cell_type": "code",
   "execution_count": 24,
   "id": "812de25c",
   "metadata": {},
   "outputs": [
    {
     "data": {
      "text/plain": [
       "['Avg_Credit_Limit',\n",
       " 'Total_Credit_Cards',\n",
       " 'Total_visits_bank',\n",
       " 'Total_visits_online',\n",
       " 'Total_calls_made',\n",
       " 'kmeans_cluster']"
      ]
     },
     "execution_count": 24,
     "metadata": {},
     "output_type": "execute_result"
    }
   ],
   "source": [
    "# converting the columns to a list\n",
    "cols = X.columns.tolist()\n",
    "cols"
   ]
  },
  {
   "cell_type": "code",
   "execution_count": 25,
   "id": "58c4d958",
   "metadata": {},
   "outputs": [
    {
     "data": {
      "text/plain": [
       "['Avg_Credit_Limit',\n",
       " 'Total_Credit_Cards',\n",
       " 'Total_visits_bank',\n",
       " 'Total_visits_online',\n",
       " 'Total_calls_made']"
      ]
     },
     "execution_count": 25,
     "metadata": {},
     "output_type": "execute_result"
    }
   ],
   "source": [
    "# removing the kmeans_cluster column\n",
    "cols.remove('kmeans_cluster')\n",
    "cols"
   ]
  },
  {
   "cell_type": "code",
   "execution_count": 26,
   "id": "3074bd4a",
   "metadata": {},
   "outputs": [
    {
     "data": {
      "image/png": "[encoded data removed]",
      "text/plain": [
       "<Figure size 1080x360 with 5 Axes>"
      ]
     },
     "metadata": {
      "needs_background": "light"
     },
     "output_type": "display_data"
    }
   ],
   "source": [
    "# examining the customer groups\n",
    "fig, ax = plt.subplots(1, 5, figsize = (15, 5)) # subplot of 1 row and 5 columns\n",
    "fig.suptitle(\"Customer Groups\")\n",
    "\n",
    "for i in range(len(cols)):\n",
    "    # plotting boxplot for all the columns against the kmeans\n",
    "    sns.boxplot(ax = ax[i], x = X['kmeans_cluster'], y = X[cols[i]]) \n",
    "    \n",
    "fig.tight_layout()"
   ]
  },
  {
   "cell_type": "markdown",
   "id": "4b64f8c6",
   "metadata": {},
   "source": [
    "From the boxplots above, the data can be summarised as follows:\n",
    "- Cluster 0 contains:\n",
    "  - Customers with higer credit limits from 85,000 dollars and above\n",
    "  - Customers who own between 5 - 10 credit cards\n",
    "  - Customers who do not visit the bank physically or visit once a year\n",
    "  - Customers who use the online customer service platform 6 or more times yearly\n",
    "  - Customers who make an average of 1 call or a maximum of 2 calls yearly to the bank.\n",
    "  \n",
    "This group shows a more tech savvy group of customers who probably earn more, and are the most comfortable using digital channels (credit cards) and online customer service platform to make complaints.  "
   ]
  },
  {
   "cell_type": "markdown",
   "id": "d3527c7d",
   "metadata": {},
   "source": [
    "- Cluster 1 contains:\n",
    "  - Customers with credit limits from 3,000 - 100,000 dollars\n",
    "  - Customers who own between 2 - 7 credit cards\n",
    "  - Customers who visit the bank physically between 1 - 5 times yearly\n",
    "  - Customers who use the online customer service platform between 0 - 3 times yearly\n",
    "  - Customers who make a maximum of 4 calls or an average of 2 calls yearly to the bank.  \n",
    "  \n",
    " This group of customers are not as tech savvy as the first group of customers, they probably do not earn as much as the first group and would rather visit the bank physically to lay complaints than use any other customer service channel.  \n",
    " \n",
    " Also, based on this group's most preferred customer service channel, they are customers who live or work close to the bank."
   ]
  },
  {
   "cell_type": "markdown",
   "id": "5352f487",
   "metadata": {},
   "source": [
    "- Cluster 2 contains:\n",
    "  - Customers with credit limits from 3,000 - 20,000 dollars\n",
    "  - Customers who own between 1 - 4 credit cards\n",
    "  - Customers who visit the bank physically between 0 - 2 times yearly\n",
    "  - Customers who use the online customer service platform between 1 - 5 times yearly\n",
    "  - Customers who make a maximum of 10 calls or an average of 7 calls yearly to the bank.  \n",
    "  \n",
    "This group of customers probably earn the least out of the other customer groups.  \n",
    "Based on this group's most preferred customer service channel which is phone calls, they probably live or work further away from the bank and therefore are less likely to visit physically.  \n",
    "\n",
    "Outliers can be seen in the third group where credit card limit is 5,000 dollars, and online visits is 10"
   ]
  },
  {
   "cell_type": "markdown",
   "id": "f8475e1f",
   "metadata": {},
   "source": [
    "### Calculating the silhouette score"
   ]
  },
  {
   "cell_type": "code",
   "execution_count": 27,
   "id": "37f30131",
   "metadata": {},
   "outputs": [],
   "source": [
    "# importing the silhouette score\n",
    "from sklearn.metrics import silhouette_score"
   ]
  },
  {
   "cell_type": "code",
   "execution_count": 28,
   "id": "88a75e29",
   "metadata": {},
   "outputs": [
    {
     "data": {
      "text/plain": [
       "0.516281010855363"
      ]
     },
     "execution_count": 28,
     "metadata": {},
     "output_type": "execute_result"
    }
   ],
   "source": [
    "# computing the silhouette score\n",
    "kmeans_sil = silhouette_score(X_sc, clusters)\n",
    "kmeans_sil"
   ]
  },
  {
   "cell_type": "markdown",
   "id": "6e311592",
   "metadata": {},
   "source": [
    "The silhouette score is 0.52. This indicates a moderately good clustering result with data points that are relatively well-clustered and are moderately similar to their own cluster compared to other clusters.  \n",
    "\n",
    "The silhouette score measures how similar an object is to its own cluster compared to other clusters. The score ranges from -1 to 1, with a score of 1 indicating that the object is very similar to its own cluster and very different from other clusters. A score of 0 indicates that the object is on the boundary between two clusters, and negative scores indicate that the object is more similar to other clusters than its own."
   ]
  },
  {
   "cell_type": "markdown",
   "id": "3116d511",
   "metadata": {},
   "source": [
    "#### Varying the number of clusters to try for an improved silhouette score"
   ]
  },
  {
   "cell_type": "code",
   "execution_count": 29,
   "id": "53bffb22",
   "metadata": {},
   "outputs": [
    {
     "data": {
      "text/plain": [
       "{2: 0.42,\n",
       " 3: 0.52,\n",
       " 4: 0.36,\n",
       " 5: 0.27,\n",
       " 6: 0.26,\n",
       " 7: 0.25,\n",
       " 8: 0.23,\n",
       " 9: 0.22,\n",
       " 10: 0.21}"
      ]
     },
     "execution_count": 29,
     "metadata": {},
     "output_type": "execute_result"
    }
   ],
   "source": [
    "# creating a for loop with varying number of clusters from 2 - 10\n",
    "sil_score = [] # creating an empty list to store the silhouette scores\n",
    "cluster_nums = [i for i in range(2, 11)] # creating a list of clusters from 2 - 10\n",
    "\n",
    "for i in cluster_nums:\n",
    "    kmeans = KMeans(n_clusters=i, random_state=0) # declaring an instance of the K-means algorithm\n",
    "    clusters = kmeans.fit_predict(X_sc) # computing the clusters\n",
    "    kmeans_sil = silhouette_score(X_sc, clusters) # computing the silhouette score\n",
    "    sil_score.append(kmeans_sil) # appending the scores to the sil_score list\n",
    "    sil_score_dict = {i: round((j), 2) for i,j in zip(cluster_nums, sil_score)}\n",
    "    \n",
    "sil_score_dict"
   ]
  },
  {
   "cell_type": "markdown",
   "id": "f2491964",
   "metadata": {},
   "source": [
    "Since the silhouette score calculates how good a clustering is, a higher score is desired. Therefore we can see that 3 clusters gives the best silhouette score which is 0.52"
   ]
  },
  {
   "cell_type": "code",
   "execution_count": 30,
   "id": "28140ef1",
   "metadata": {},
   "outputs": [
    {
     "data": {
      "text/html": [
       "<div>\n",
       "<style scoped>\n",
       "    .dataframe tbody tr th:only-of-type {\n",
       "        vertical-align: middle;\n",
       "    }\n",
       "\n",
       "    .dataframe tbody tr th {\n",
       "        vertical-align: top;\n",
       "    }\n",
       "\n",
       "    .dataframe thead th {\n",
       "        text-align: right;\n",
       "    }\n",
       "</style>\n",
       "<table border=\"1\" class=\"dataframe\">\n",
       "  <thead>\n",
       "    <tr style=\"text-align: right;\">\n",
       "      <th></th>\n",
       "      <th>Clusters</th>\n",
       "      <th>Silhouette_Scores</th>\n",
       "    </tr>\n",
       "  </thead>\n",
       "  <tbody>\n",
       "    <tr>\n",
       "      <th>0</th>\n",
       "      <td>2</td>\n",
       "      <td>0.418000</td>\n",
       "    </tr>\n",
       "    <tr>\n",
       "      <th>1</th>\n",
       "      <td>3</td>\n",
       "      <td>0.516281</td>\n",
       "    </tr>\n",
       "    <tr>\n",
       "      <th>2</th>\n",
       "      <td>4</td>\n",
       "      <td>0.357024</td>\n",
       "    </tr>\n",
       "    <tr>\n",
       "      <th>3</th>\n",
       "      <td>5</td>\n",
       "      <td>0.273091</td>\n",
       "    </tr>\n",
       "    <tr>\n",
       "      <th>4</th>\n",
       "      <td>6</td>\n",
       "      <td>0.256523</td>\n",
       "    </tr>\n",
       "    <tr>\n",
       "      <th>5</th>\n",
       "      <td>7</td>\n",
       "      <td>0.248292</td>\n",
       "    </tr>\n",
       "    <tr>\n",
       "      <th>6</th>\n",
       "      <td>8</td>\n",
       "      <td>0.226741</td>\n",
       "    </tr>\n",
       "    <tr>\n",
       "      <th>7</th>\n",
       "      <td>9</td>\n",
       "      <td>0.217544</td>\n",
       "    </tr>\n",
       "    <tr>\n",
       "      <th>8</th>\n",
       "      <td>10</td>\n",
       "      <td>0.210923</td>\n",
       "    </tr>\n",
       "  </tbody>\n",
       "</table>\n",
       "</div>"
      ],
      "text/plain": [
       "   Clusters  Silhouette_Scores\n",
       "0         2           0.418000\n",
       "1         3           0.516281\n",
       "2         4           0.357024\n",
       "3         5           0.273091\n",
       "4         6           0.256523\n",
       "5         7           0.248292\n",
       "6         8           0.226741\n",
       "7         9           0.217544\n",
       "8        10           0.210923"
      ]
     },
     "execution_count": 30,
     "metadata": {},
     "output_type": "execute_result"
    }
   ],
   "source": [
    "# creating a dataframe with number of clusters and the silhouette scores\n",
    "sil_frame = pd.DataFrame({\"Clusters\": cluster_nums, \"Silhouette_Scores\": sil_score})\n",
    "sil_frame"
   ]
  },
  {
   "cell_type": "code",
   "execution_count": 36,
   "id": "5d539576",
   "metadata": {},
   "outputs": [
    {
     "data": {
      "image/png": "[encoded data removed]",
      "text/plain": [
       "<Figure size 720x360 with 1 Axes>"
      ]
     },
     "metadata": {
      "needs_background": "light"
     },
     "output_type": "display_data"
    }
   ],
   "source": [
    "# visualising the silhouette scores\n",
    "plt.figure(figsize = (10, 5))\n",
    "plt.plot(sil_frame[\"Clusters\"], sil_frame['Silhouette_Scores'], marker = \"o\")\n",
    "plt.xlabel(\"Number of clusters\")\n",
    "plt.ylabel(\"Silhouette Scores\")\n",
    "plt.title(\"Silhouette Scores against Number of Clusters\")\n",
    "plt.show()"
   ]
  },
  {
   "cell_type": "markdown",
   "id": "20b6d20f",
   "metadata": {},
   "source": [
    "- From the graph above, the cluster with the maximum silhouette score is 3.  \n",
    "- This is similar to the result obtained from computing the inertia which we already used to build our model."
   ]
  },
  {
   "cell_type": "markdown",
   "id": "5eec4ab6",
   "metadata": {},
   "source": [
    "### DBSCAN"
   ]
  },
  {
   "cell_type": "code",
   "execution_count": 37,
   "id": "0f61e74a",
   "metadata": {},
   "outputs": [],
   "source": [
    "# import the algorithm\n",
    "from sklearn.cluster import DBSCAN"
   ]
  },
  {
   "cell_type": "code",
   "execution_count": 38,
   "id": "80b67faf",
   "metadata": {},
   "outputs": [
    {
     "data": {
      "text/plain": [
       "array([-1, -1, -1, -1, -1,  2, -1, -1, -1, -1,  2,  2,  0,  3,  1,  2, -1,\n",
       "        2,  1,  3,  1,  2,  3,  3,  2,  3,  2, -1,  2,  2,  3,  3, -1,  2,\n",
       "        3,  2, -1,  2,  3,  1,  7,  6,  1,  2,  1,  3,  4,  1, -1,  1,  2,\n",
       "        3,  3,  2,  2,  4, -1,  2,  2,  3,  3, -1, -1,  2,  2,  3,  2,  1,\n",
       "        0,  0,  0,  1,  3,  3,  2,  3,  0,  3,  2,  6,  1,  3,  3,  3,  1,\n",
       "        3,  3, -1,  3,  7,  3, -1,  3,  0, -1,  0,  1,  2,  3,  3,  2,  3,\n",
       "        3,  2, -1,  3,  3,  1,  1, -1,  1,  2,  3, -1,  2,  1,  2,  2,  3,\n",
       "        2,  1,  2,  5,  3,  1,  3,  3, -1,  3,  3,  3, -1, -1,  3,  3,  1,\n",
       "        2,  2,  3,  2,  2,  2,  3,  3,  7,  2,  3,  1, -1,  6, -1,  3,  1,\n",
       "        2,  7,  3, -1,  0, -1,  4,  2,  1,  2,  2,  2,  2,  1,  3,  3,  6,\n",
       "        1,  2,  3, -1,  1,  2,  3,  5,  2,  2,  2,  0, -1,  2,  1,  1,  2,\n",
       "        1,  2,  3,  2,  1,  2,  3,  2,  6,  3,  7,  2,  2,  2,  2, -1, -1,\n",
       "       -1,  1,  2,  2,  3,  3,  3,  2,  3,  3, -1,  3,  3,  2,  1,  3,  1,\n",
       "        3, -1,  0,  1,  8,  9, 10, 11, 19,  8, 10, 14, 10, -1, 12, 12, 12,\n",
       "       10, -1, 13, 11, 12, 10, 11, 10, 10, 11, 12, 10, 12, -1, 10, 11, 13,\n",
       "       11, 13, 10, 11, 13, 12, 13, 13, 10, 13, 10, 10, -1,  9, 12, 10, 10,\n",
       "       12, -1, 10, 13, 10, 13,  8, 11, -1,  8, 10, 10,  8, -1, 10, 11, 11,\n",
       "       -1, 12, 10, 13, 14, 10, 10, 10, 13, 12, 10, 13, 10, 11, 11, 10, 10,\n",
       "       10, 11, 11, -1, 11, 11, 13, 10, 13,  9, 10, 10, 11, 12, 13, 13, 10,\n",
       "       13, 13, 11, 10, 11, 13, -1, 10, 13,  9,  8, 11, 11, -1, 13, -1, 12,\n",
       "       13, 11,  9, 13, 11, 12,  8, 12, 13, 14, 10, 10, 13, 12, -1, 11, 10,\n",
       "       12, 13, 22, 22, -1, -1, 13, 11, 12, 10, 10, 10, 11, 13, -1,  9,  9,\n",
       "       12, 11, 11, -1, 12, 11, 13, 10, -1, 10, -1, 12, 14, 23, 11, 16, -1,\n",
       "       -1, -1, 18, -1, 17, -1, -1, -1, -1, 17, 12, -1, 10, 22, 15, -1, 12,\n",
       "       -1, -1, -1, -1, -1, 11, 15, 19, 12, 17, 10, -1, 13, 23, -1, 16, -1,\n",
       "       18, -1, 18, -1, 12, 20, 15, 12, 15, 10, -1, -1, -1, -1, 13, -1, -1,\n",
       "       13, -1, -1, -1, 10, -1, 17, 20, 13, 13, -1, 10, 18, -1, -1, 13, -1,\n",
       "       16, -1, -1, 11, 11, -1, -1, -1, 10, 11, -1, -1, 11, -1, 19, 19, -1,\n",
       "       18, 10, -1, 10, 18, -1, -1, 12, -1, -1, -1, 13, -1, -1, 11, -1, -1,\n",
       "       10, -1, 10, 11, 17, 13, 12, 16, 16, 11, 12, 13, 21, -1, -1, -1, -1,\n",
       "       -1, 10, -1, -1, 23, 12, 12, -1, 11, -1, -1, -1, 11, -1, 10, 13, -1,\n",
       "       20, -1, 17, 10, -1, -1, -1, -1, 17, 10, 15, 10, 10, -1, -1, 21, 12,\n",
       "       -1, -1, 20, 10, 10, 11, 22, -1, 23, -1, -1, -1, 11, -1, 23, 18, -1,\n",
       "       20, 17, -1, -1, 11, 15, 22, -1, -1, 10, -1, -1, 13, 21, 11, -1, -1,\n",
       "       10, 12, -1, -1, -1, -1, 21, -1, 10, -1, -1, -1, 19, -1, -1, 11, 12,\n",
       "       15, 11, 13, -1, -1, 21, -1, -1, -1, -1, -1, -1, -1, -1, -1, -1, -1,\n",
       "       -1, -1, -1, -1, -1, -1, -1, -1, -1, -1, -1, -1, -1, -1, -1, -1, -1,\n",
       "       -1, -1, -1, -1, -1, -1, -1, -1, -1, -1, -1, -1, -1, -1, -1, -1, -1,\n",
       "       -1, -1, -1])"
      ]
     },
     "execution_count": 38,
     "metadata": {},
     "output_type": "execute_result"
    }
   ],
   "source": [
    "# create an instance \n",
    "dbscan = DBSCAN()\n",
    "\n",
    "# make a prediction\n",
    "db_labels = dbscan.fit_predict(X_sc)\n",
    "db_labels"
   ]
  },
  {
   "cell_type": "code",
   "execution_count": 39,
   "id": "713d0686",
   "metadata": {},
   "outputs": [
    {
     "data": {
      "text/plain": [
       "{0.4: -0.3, 0.5: -0.14, 0.6: -0.01, 0.7: 0.53, 0.8: 0.5, 0.9: 0.46, 1.0: 0.52}"
      ]
     },
     "execution_count": 39,
     "metadata": {},
     "output_type": "execute_result"
    }
   ],
   "source": [
    "eps_list = [0.4, 0.5, 0.6, 0.7, 0.8, 0.9, 1.0] # values for eps\n",
    "sil_score = []\n",
    "\n",
    "# running a loop through values of eps\n",
    "for i in eps_list:\n",
    "    dbscan = DBSCAN(eps = i) # declaring an instance\n",
    "    db_labels = dbscan.fit_predict(X_sc) # predicting clusters\n",
    "    kmeans_sil = silhouette_score(X_sc, db_labels) # computing the silhouette score\n",
    "    sil_score.append(kmeans_sil) # appending the scores to the sil_score list\n",
    "    sil_score_dict = {i: round((j), 2) for i,j in zip(eps_list, sil_score)}\n",
    "    \n",
    "sil_score_dict"
   ]
  },
  {
   "cell_type": "code",
   "execution_count": 40,
   "id": "c3e0e4d1",
   "metadata": {},
   "outputs": [
    {
     "data": {
      "text/html": [
       "<div>\n",
       "<style scoped>\n",
       "    .dataframe tbody tr th:only-of-type {\n",
       "        vertical-align: middle;\n",
       "    }\n",
       "\n",
       "    .dataframe tbody tr th {\n",
       "        vertical-align: top;\n",
       "    }\n",
       "\n",
       "    .dataframe thead th {\n",
       "        text-align: right;\n",
       "    }\n",
       "</style>\n",
       "<table border=\"1\" class=\"dataframe\">\n",
       "  <thead>\n",
       "    <tr style=\"text-align: right;\">\n",
       "      <th></th>\n",
       "      <th>Eps</th>\n",
       "      <th>Silhouette_Scores</th>\n",
       "    </tr>\n",
       "  </thead>\n",
       "  <tbody>\n",
       "    <tr>\n",
       "      <th>0</th>\n",
       "      <td>0.4</td>\n",
       "      <td>-0.304496</td>\n",
       "    </tr>\n",
       "    <tr>\n",
       "      <th>1</th>\n",
       "      <td>0.5</td>\n",
       "      <td>-0.141201</td>\n",
       "    </tr>\n",
       "    <tr>\n",
       "      <th>2</th>\n",
       "      <td>0.6</td>\n",
       "      <td>-0.007034</td>\n",
       "    </tr>\n",
       "    <tr>\n",
       "      <th>3</th>\n",
       "      <td>0.7</td>\n",
       "      <td>0.525369</td>\n",
       "    </tr>\n",
       "    <tr>\n",
       "      <th>4</th>\n",
       "      <td>0.8</td>\n",
       "      <td>0.497571</td>\n",
       "    </tr>\n",
       "    <tr>\n",
       "      <th>5</th>\n",
       "      <td>0.9</td>\n",
       "      <td>0.457985</td>\n",
       "    </tr>\n",
       "    <tr>\n",
       "      <th>6</th>\n",
       "      <td>1.0</td>\n",
       "      <td>0.519298</td>\n",
       "    </tr>\n",
       "  </tbody>\n",
       "</table>\n",
       "</div>"
      ],
      "text/plain": [
       "   Eps  Silhouette_Scores\n",
       "0  0.4          -0.304496\n",
       "1  0.5          -0.141201\n",
       "2  0.6          -0.007034\n",
       "3  0.7           0.525369\n",
       "4  0.8           0.497571\n",
       "5  0.9           0.457985\n",
       "6  1.0           0.519298"
      ]
     },
     "execution_count": 40,
     "metadata": {},
     "output_type": "execute_result"
    }
   ],
   "source": [
    "sil_frame = pd.DataFrame({\"Eps\": eps_list, \"Silhouette_Scores\": sil_score})\n",
    "sil_frame"
   ]
  },
  {
   "cell_type": "code",
   "execution_count": 41,
   "id": "a084da56",
   "metadata": {},
   "outputs": [
    {
     "data": {
      "image/png": "[encoded data removed]",
      "text/plain": [
       "<Figure size 720x360 with 1 Axes>"
      ]
     },
     "metadata": {
      "needs_background": "light"
     },
     "output_type": "display_data"
    }
   ],
   "source": [
    "plt.figure(figsize = (10, 5))\n",
    "plt.plot(sil_frame[\"Eps\"], sil_frame['Silhouette_Scores'], marker = \"o\")\n",
    "plt.xlabel(\"Number of Eps\")\n",
    "plt.ylabel(\"Silhouette Scores\")\n",
    "plt.title(\"Silhouette Scores against Value of Eps\")\n",
    "plt.show()"
   ]
  },
  {
   "cell_type": "markdown",
   "id": "4e3d4bb8",
   "metadata": {},
   "source": [
    "- Optimal value of eps is 0.7"
   ]
  },
  {
   "cell_type": "code",
   "execution_count": 42,
   "id": "985b0e0e",
   "metadata": {},
   "outputs": [
    {
     "data": {
      "text/plain": [
       "array([-1, -1, -1, -1, -1,  0, -1, -1, -1,  0,  0,  0,  0,  0,  0,  0,  0,\n",
       "        0,  0,  0,  0,  0,  0,  0,  0,  0,  0,  0,  0,  0,  0,  0,  0,  0,\n",
       "        0,  0,  0,  0,  0,  0,  0,  0,  0,  0,  0,  0,  0,  0,  0,  0,  0,\n",
       "        0,  0,  0,  0,  0,  0,  0,  0,  0,  0,  0,  0,  0,  0,  0,  0,  0,\n",
       "        0,  0,  0,  0,  0,  0,  0,  0,  0,  0,  0,  0,  0,  0,  0,  0,  0,\n",
       "        0,  0,  0,  0,  0,  0,  0,  0,  0,  0,  0,  0,  0,  0,  0,  0,  0,\n",
       "        0,  0,  0,  0,  0,  0,  0,  0,  0,  0,  0,  0,  0,  0,  0,  0,  0,\n",
       "        0,  0,  0,  0,  0,  0,  0,  0,  0,  0,  0,  0,  0,  0,  0,  0,  0,\n",
       "        0,  0,  0,  0,  0,  0,  0,  0,  0,  0,  0,  0,  0,  0,  0,  0,  0,\n",
       "        0,  0,  0,  0,  0,  0,  0,  0,  0,  0,  0,  0,  0,  0,  0,  0,  0,\n",
       "        0,  0,  0,  0,  0,  0,  0,  0,  0,  0,  0,  0,  0,  0,  0,  0,  0,\n",
       "        0,  0,  0,  0,  0,  0,  0,  0,  0,  0,  0,  0,  0,  0,  0,  0,  0,\n",
       "        0,  0,  0,  0,  0,  0,  0,  0,  0,  0,  0,  0,  0,  0,  0,  0,  0,\n",
       "        0,  0,  0,  0,  0,  0,  0,  0,  0,  0,  0,  0,  0,  0,  0,  0,  0,\n",
       "        0,  0,  0,  0,  0,  0,  0,  0,  0,  0,  0,  0,  0,  0,  0,  0,  0,\n",
       "        0,  0,  0,  0,  0,  0,  0,  0,  0,  0,  0,  0,  0,  0,  0,  0,  0,\n",
       "        0,  0,  0,  0,  0,  0,  0,  0,  0,  0,  0,  0,  0,  0,  0,  0,  0,\n",
       "        0,  0,  0,  0,  0,  0,  0,  0,  0,  0,  0,  0,  0,  0,  0,  0,  0,\n",
       "        0,  0,  0,  0,  0,  0,  0,  0,  0,  0,  0,  0,  0,  0,  0,  0,  0,\n",
       "        0,  0,  0,  0,  0,  0,  0,  0,  0,  0,  0,  0,  0,  0,  0,  0,  0,\n",
       "        0,  0,  0,  0,  0,  0,  0,  0,  0,  0,  0,  0,  0,  0,  0,  0,  0,\n",
       "        0,  0,  0,  0,  0,  0,  0,  0,  0,  0,  0,  0,  0,  0,  0,  0,  0,\n",
       "        0,  0,  0,  0,  0,  0,  0,  0,  0,  0,  0,  0,  0,  0,  0,  0,  0,\n",
       "        0,  0,  0,  0,  0,  0,  0,  0,  0,  0,  0,  0,  0,  0,  0,  0,  0,\n",
       "        0,  0,  0,  0,  0,  0,  0,  0,  0,  0,  0,  0,  0,  0,  0,  0,  0,\n",
       "        0,  0,  0,  0,  0,  0,  0,  0,  0,  0,  0,  0,  0,  0,  0,  0,  0,\n",
       "        0,  0,  0,  0,  0,  0,  0,  0,  0,  0,  0,  0,  0,  0,  0,  0,  0,\n",
       "        0,  0,  0,  0,  0,  0,  0,  0,  0,  0,  0,  0,  0,  0,  0,  0,  0,\n",
       "        0,  0,  0,  0,  0, -1,  0,  0,  0,  0,  0,  0,  0,  0,  0,  0,  0,\n",
       "        0,  0,  0,  0,  0,  0,  0,  0,  0,  0,  0,  0,  0,  0,  0,  0,  0,\n",
       "        0,  0,  0,  0,  0,  0,  0,  0,  0,  0,  0,  0,  0,  0,  0,  0,  0,\n",
       "        0,  0,  0,  0,  0,  0,  0,  0,  0,  0,  0,  0,  0,  0,  0,  0,  0,\n",
       "        0,  0,  0,  0,  0,  0,  0,  0,  0,  0,  0,  0,  0,  0,  0,  0,  0,\n",
       "        0,  0,  0,  0,  0,  0,  0,  0,  0,  0,  0,  0,  0,  0,  0,  0,  0,\n",
       "        0,  0,  0,  0, -1,  0,  0,  0,  0,  0,  0,  0,  0,  0,  0,  0,  0,\n",
       "        0,  0,  0,  0,  0,  0, -1, -1, -1, -1, -1, -1, -1, -1, -1, -1, -1,\n",
       "       -1, -1, -1, -1, -1, -1, -1, -1, -1, -1, -1, -1, -1, -1, -1, -1, -1,\n",
       "       -1, -1, -1, -1, -1, -1, -1, -1, -1, -1, -1, -1, -1, -1, -1, -1, -1,\n",
       "       -1, -1, -1])"
      ]
     },
     "execution_count": 42,
     "metadata": {},
     "output_type": "execute_result"
    }
   ],
   "source": [
    "# create an instance \n",
    "dbscan = DBSCAN(eps=0.7)\n",
    "\n",
    "# make a prediction\n",
    "db_labels = dbscan.fit_predict(X_sc)\n",
    "db_labels"
   ]
  },
  {
   "cell_type": "code",
   "execution_count": 43,
   "id": "c91afc90",
   "metadata": {},
   "outputs": [
    {
     "data": {
      "text/html": [
       "<div>\n",
       "<style scoped>\n",
       "    .dataframe tbody tr th:only-of-type {\n",
       "        vertical-align: middle;\n",
       "    }\n",
       "\n",
       "    .dataframe tbody tr th {\n",
       "        vertical-align: top;\n",
       "    }\n",
       "\n",
       "    .dataframe thead th {\n",
       "        text-align: right;\n",
       "    }\n",
       "</style>\n",
       "<table border=\"1\" class=\"dataframe\">\n",
       "  <thead>\n",
       "    <tr style=\"text-align: right;\">\n",
       "      <th></th>\n",
       "      <th>Avg_Credit_Limit</th>\n",
       "      <th>Total_Credit_Cards</th>\n",
       "      <th>Total_visits_bank</th>\n",
       "      <th>Total_visits_online</th>\n",
       "      <th>Total_calls_made</th>\n",
       "      <th>kmeans_cluster</th>\n",
       "      <th>db_labels</th>\n",
       "    </tr>\n",
       "  </thead>\n",
       "  <tbody>\n",
       "    <tr>\n",
       "      <th>0</th>\n",
       "      <td>100000</td>\n",
       "      <td>2</td>\n",
       "      <td>1</td>\n",
       "      <td>1</td>\n",
       "      <td>0</td>\n",
       "      <td>1</td>\n",
       "      <td>-1</td>\n",
       "    </tr>\n",
       "    <tr>\n",
       "      <th>1</th>\n",
       "      <td>50000</td>\n",
       "      <td>3</td>\n",
       "      <td>0</td>\n",
       "      <td>10</td>\n",
       "      <td>9</td>\n",
       "      <td>2</td>\n",
       "      <td>-1</td>\n",
       "    </tr>\n",
       "    <tr>\n",
       "      <th>2</th>\n",
       "      <td>50000</td>\n",
       "      <td>7</td>\n",
       "      <td>1</td>\n",
       "      <td>3</td>\n",
       "      <td>4</td>\n",
       "      <td>1</td>\n",
       "      <td>-1</td>\n",
       "    </tr>\n",
       "    <tr>\n",
       "      <th>3</th>\n",
       "      <td>30000</td>\n",
       "      <td>5</td>\n",
       "      <td>1</td>\n",
       "      <td>1</td>\n",
       "      <td>4</td>\n",
       "      <td>1</td>\n",
       "      <td>-1</td>\n",
       "    </tr>\n",
       "    <tr>\n",
       "      <th>4</th>\n",
       "      <td>100000</td>\n",
       "      <td>6</td>\n",
       "      <td>0</td>\n",
       "      <td>12</td>\n",
       "      <td>3</td>\n",
       "      <td>0</td>\n",
       "      <td>-1</td>\n",
       "    </tr>\n",
       "  </tbody>\n",
       "</table>\n",
       "</div>"
      ],
      "text/plain": [
       "   Avg_Credit_Limit  Total_Credit_Cards  Total_visits_bank  \\\n",
       "0            100000                   2                  1   \n",
       "1             50000                   3                  0   \n",
       "2             50000                   7                  1   \n",
       "3             30000                   5                  1   \n",
       "4            100000                   6                  0   \n",
       "\n",
       "   Total_visits_online  Total_calls_made  kmeans_cluster  db_labels  \n",
       "0                    1                 0               1         -1  \n",
       "1                   10                 9               2         -1  \n",
       "2                    3                 4               1         -1  \n",
       "3                    1                 4               1         -1  \n",
       "4                   12                 3               0         -1  "
      ]
     },
     "execution_count": 43,
     "metadata": {},
     "output_type": "execute_result"
    }
   ],
   "source": [
    "# inserting the db_labels to the dataset to enable interpretation\n",
    "X['db_labels'] = db_labels\n",
    "X.head() # getting the first 5 values of the updated dataset"
   ]
  },
  {
   "cell_type": "code",
   "execution_count": 44,
   "id": "801606e3",
   "metadata": {},
   "outputs": [
    {
     "data": {
      "text/plain": [
       "['Avg_Credit_Limit',\n",
       " 'Total_Credit_Cards',\n",
       " 'Total_visits_bank',\n",
       " 'Total_visits_online',\n",
       " 'Total_calls_made',\n",
       " 'kmeans_cluster',\n",
       " 'db_labels']"
      ]
     },
     "execution_count": 44,
     "metadata": {},
     "output_type": "execute_result"
    }
   ],
   "source": [
    "# converting the columns to a list\n",
    "cols2 = X.columns.tolist()\n",
    "cols2"
   ]
  },
  {
   "cell_type": "code",
   "execution_count": 45,
   "id": "8b511cea",
   "metadata": {},
   "outputs": [
    {
     "data": {
      "text/plain": [
       "['Avg_Credit_Limit',\n",
       " 'Total_Credit_Cards',\n",
       " 'Total_visits_bank',\n",
       " 'Total_visits_online',\n",
       " 'Total_calls_made']"
      ]
     },
     "execution_count": 45,
     "metadata": {},
     "output_type": "execute_result"
    }
   ],
   "source": [
    "# removing the kmeans_cluster and the db_labels column\n",
    "cols2.remove('kmeans_cluster')\n",
    "cols2.remove('db_labels')\n",
    "cols2"
   ]
  },
  {
   "cell_type": "code",
   "execution_count": 46,
   "id": "2fb94c3c",
   "metadata": {},
   "outputs": [
    {
     "data": {
      "image/png": "[encoded data removed]",
      "text/plain": [
       "<Figure size 1080x360 with 5 Axes>"
      ]
     },
     "metadata": {
      "needs_background": "light"
     },
     "output_type": "display_data"
    }
   ],
   "source": [
    "# examining the customer groups\n",
    "fig, ax = plt.subplots(1, 5, figsize = (15, 5)) # subplot of 1 row and 5 columns\n",
    "fig.suptitle(\"Customer Groups\")\n",
    "\n",
    "for i in range(len(cols)):\n",
    "    # plotting boxplot for all the columns against the kmeans\n",
    "    sns.boxplot(ax = ax[i], x = X['db_labels'], y = X[cols[i]]) \n",
    "    \n",
    "fig.tight_layout()"
   ]
  },
  {
   "cell_type": "markdown",
   "id": "2f9b3b88",
   "metadata": {},
   "source": [
    "From the boxplots above, the data can be summarised as follows:\n",
    "- Cluster -1 contains:\n",
    "  - Customers with higer credit limits mostly between 100,000 - 160,000 dollars and above\n",
    "  - Customers who own mostly between 7 - 10 credit cards\n",
    "  - Customers who do not visit the bank physically or visit once a year\n",
    "  - Customers who use the online customer service platform mostly from 7 or more times yearly\n",
    "  - Customers who make mostly between 1 - 2 calls yearly to the bank.\n",
    "  \n",
    "This group shows a more tech savvy group of customers who probably earn more, and are the most comfortable using digital channels (credit cards) and online customer service platform to make complaints.  \n",
    "\n",
    "- In the first cluster, outliers can be seen where customers have only two credit cards, customers visit the bank 5 times yearly and customers make up to 9 calls a year."
   ]
  },
  {
   "cell_type": "markdown",
   "id": "05add4ce",
   "metadata": {},
   "source": [
    "- Cluster 0 contains:\n",
    "  - Customers with credit limits from 3,000 - 75,000 dollars\n",
    "  - Customers who own between 1 - 7 credit cards\n",
    "  - Customers who visit the bank physically mostly between 1 - 4 times yearly\n",
    "  - Customers who use the online customer service platform mostly between 1 - 3 times yearly\n",
    "  - Customers who make a mostly between 1 - 6 calls yearly to the bank.  \n",
    "  \n",
    "This group of customers are not as tech savvy as the first group of customers, they probably do not earn as much as the first group and would rather visit the bank physically to lay complaints than use any other customer service channel.  \n",
    " \n",
    "Also, based on this group's most preferred customer service channel, they are customers who live or work close to the bank. They also favour calls to the bank."
   ]
  },
  {
   "cell_type": "markdown",
   "id": "e2933eac",
   "metadata": {},
   "source": [
    "### K-Means vs DBSCAN"
   ]
  },
  {
   "cell_type": "markdown",
   "id": "dbada9fb",
   "metadata": {},
   "source": [
    "K-Means grouped the customers into 3 clusters. From the clusters, customers were grouped distinctly into higher-range earners, middle-range earners and lower-range earners with labels 0-2 for the clusters  \n",
    "\n",
    "DBSCAN grouped customers into only 2 clusters. It was observed that the middle-range earners and the lower-range earners were combined into one group along with all the other features that made these two groups distinct in the K-Means clustering. Clusters were labelled -1 and 0"
   ]
  },
  {
   "cell_type": "markdown",
   "id": "30df7d97",
   "metadata": {},
   "source": [
    "### Recommendation"
   ]
  },
  {
   "cell_type": "markdown",
   "id": "aa9828ef",
   "metadata": {},
   "source": [
    "- Customers with higher credit limits tend to require more credit cards. The marketing team could focus on selling the credit cards to this group of customers. Customers with the mid-range credit limits had the second highest uptake of credit cards and marketing efforts could be channeled generally to these groups of people to improve their uptake of the cards.\n",
    "\n",
    "- Customers with higher credit limits prefer to use the online customer service portal, customers with mid-range credit limits prefer to visit the bank, while customers with lower credit limits prefer to call. The total number of customers who fall into these groups should be taken into consideration and efforts should be made to scale the different customer service chanels to meet their different numbers and needs."
   ]
  },
  {
   "cell_type": "code",
   "execution_count": null,
   "id": "7848c277",
   "metadata": {},
   "outputs": [],
   "source": []
  }
 ],
 "metadata": {
  "kernelspec": {
   "display_name": "Python 3 (ipykernel)",
   "language": "python",
   "name": "python3"
  },
  "language_info": {
   "codemirror_mode": {
    "name": "ipython",
    "version": 3
   },
   "file_extension": ".py",
   "mimetype": "text/x-python",
   "name": "python",
   "nbconvert_exporter": "python",
   "pygments_lexer": "ipython3",
   "version": "3.11.5"
  }
 },
 "nbformat": 4,
 "nbformat_minor": 5
}
